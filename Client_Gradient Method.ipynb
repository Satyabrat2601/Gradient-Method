{
 "cells": [
  {
   "cell_type": "code",
   "execution_count": 11,
   "id": "8452a467",
   "metadata": {},
   "outputs": [],
   "source": [
    "import numpy as np\n",
    "from datetime import datetime"
   ]
  },
  {
   "cell_type": "code",
   "execution_count": 12,
   "id": "6ce225a8",
   "metadata": {},
   "outputs": [
    {
     "name": "stdout",
     "output_type": "stream",
     "text": [
      "New scheme-Gradient Method\n",
      "Row number: 200\n",
      "Column number: 200\n",
      "Duration: 0:00:00.000999\n"
     ]
    }
   ],
   "source": [
    "print('New scheme-Gradient Method')\n",
    "m = int(input('Row number: '))\n",
    "n = int(input('Column number: '))\n",
    "start_time = datetime.now()\n",
    "A = np.random.rand(m, n)\n",
    "b = np.random.rand(m, 1)\n",
    "end_time = datetime.now()\n",
    "print('Duration: {}'.format(end_time - start_time))"
   ]
  },
  {
   "cell_type": "code",
   "execution_count": 13,
   "id": "fb4ae8c7",
   "metadata": {},
   "outputs": [
    {
     "name": "stdout",
     "output_type": "stream",
     "text": [
      "Duration: 0:00:00.005996\n"
     ]
    }
   ],
   "source": [
    "start_time = datetime.now()\n",
    "\n",
    "A1 = A.T @ A\n",
    "b1 = A.T @ b\n",
    "\n",
    "end_time = datetime.now()\n",
    "print('Duration: {}'.format(end_time - start_time))"
   ]
  },
  {
   "cell_type": "code",
   "execution_count": 14,
   "id": "6a1e6f15",
   "metadata": {},
   "outputs": [],
   "source": [
    "# Variables to Server\n",
    "# T1 and d1\n",
    "np.savetxt('A1.txt', A1, delimiter=',')\n",
    "np.savetxt('b1.txt', b1, delimiter=',')"
   ]
  },
  {
   "cell_type": "code",
   "execution_count": null,
   "id": "6a33fc6c",
   "metadata": {},
   "outputs": [],
   "source": []
  },
  {
   "cell_type": "code",
   "execution_count": null,
   "id": "46c7fd67",
   "metadata": {},
   "outputs": [],
   "source": []
  },
  {
   "cell_type": "code",
   "execution_count": 16,
   "id": "4bdaea49",
   "metadata": {},
   "outputs": [
    {
     "name": "stdout",
     "output_type": "stream",
     "text": [
      "Verification\n",
      "0.0005495238728782741\n",
      "Duration: 0:00:00.000998\n"
     ]
    }
   ],
   "source": [
    "print(\"Verification\")\n",
    "sol = np.loadtxt(\"sol.txt\", delimiter=',')\n",
    "sol = sol.reshape(sol.shape[0], 1)\n",
    "start_time = datetime.now()\n",
    "\n",
    "print(np.linalg.norm(b-A@sol))\n",
    "end_time = datetime.now()\n",
    "print('Duration: {}'.format(end_time - start_time))"
   ]
  },
  {
   "cell_type": "code",
   "execution_count": null,
   "id": "2ffe7ec8",
   "metadata": {},
   "outputs": [],
   "source": []
  },
  {
   "cell_type": "code",
   "execution_count": null,
   "id": "e12db063",
   "metadata": {},
   "outputs": [],
   "source": []
  }
 ],
 "metadata": {
  "kernelspec": {
   "display_name": "Python 3 (ipykernel)",
   "language": "python",
   "name": "python3"
  },
  "language_info": {
   "codemirror_mode": {
    "name": "ipython",
    "version": 3
   },
   "file_extension": ".py",
   "mimetype": "text/x-python",
   "name": "python",
   "nbconvert_exporter": "python",
   "pygments_lexer": "ipython3",
   "version": "3.9.12"
  }
 },
 "nbformat": 4,
 "nbformat_minor": 5
}
